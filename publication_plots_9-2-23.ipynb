{
 "cells": [
  {
   "cell_type": "markdown",
   "metadata": {},
   "source": [
    "## Make Potential Publication Plots for WDS-Gaia Paper"
   ]
  },
  {
   "cell_type": "markdown",
   "metadata": {},
   "source": [
    "#### Read in the wds table, query results table and the sorted results (so we can look at all the objects together as well as the sorted systems)"
   ]
  },
  {
   "cell_type": "code",
   "execution_count": null,
   "metadata": {},
   "outputs": [],
   "source": []
  },
  {
   "cell_type": "markdown",
   "metadata": {},
   "source": [
    "### Plot 1) Projection of the WDS Sources on the Sky "
   ]
  },
  {
   "cell_type": "code",
   "execution_count": null,
   "metadata": {},
   "outputs": [],
   "source": []
  },
  {
   "cell_type": "markdown",
   "metadata": {},
   "source": [
    "### Plot 2) Projection of the WDS-Gaia Sources on the Sky\n",
    "\n",
    "a] Both together (distinguished by color)\n",
    "\n",
    "b] Just the physical pairs\n",
    "\n",
    "c] Just the non-physical pairs"
   ]
  },
  {
   "cell_type": "code",
   "execution_count": null,
   "metadata": {},
   "outputs": [],
   "source": []
  },
  {
   "cell_type": "markdown",
   "metadata": {},
   "source": [
    "### Plot 3) Angular Separation Histogram\n",
    "a] Both together (distinguished by color)\n",
    "\n",
    "b] Just the physical pairs\n",
    "\n",
    "c] Just the non-physical pairs"
   ]
  },
  {
   "cell_type": "code",
   "execution_count": null,
   "metadata": {},
   "outputs": [],
   "source": []
  },
  {
   "cell_type": "markdown",
   "metadata": {},
   "source": [
    "### Plot 4) Physical Separation Histogram\n",
    "\n",
    "a] Both together (distinguished by color)\n",
    "\n",
    "b] Just the physical pairs\n",
    "\n",
    "c] Just the non-physical pairs"
   ]
  },
  {
   "cell_type": "code",
   "execution_count": null,
   "metadata": {},
   "outputs": [],
   "source": []
  },
  {
   "cell_type": "markdown",
   "metadata": {},
   "source": [
    "### Plot 5) Delta-Mag Histogram\n",
    "\n",
    "a] Both together (distinguished by color)\n",
    "\n",
    "b] Just the physical pairs\n",
    "\n",
    "c] Just the non-physical pairs"
   ]
  },
  {
   "cell_type": "code",
   "execution_count": null,
   "metadata": {},
   "outputs": [],
   "source": []
  },
  {
   "cell_type": "markdown",
   "metadata": {},
   "source": [
    "### Plot 6) Mag vs Mag plot\n",
    "\n",
    "a] Both together (distinguished by color)\n",
    "\n",
    "b] Just the physical pairs\n",
    "\n",
    "c] Just the non-physical pairs"
   ]
  },
  {
   "cell_type": "code",
   "execution_count": null,
   "metadata": {},
   "outputs": [],
   "source": []
  },
  {
   "cell_type": "markdown",
   "metadata": {},
   "source": [
    "### Plot 7) Color Magnitude Diagram\n",
    "\n",
    "a] Both together (distinguished by color)\n",
    "\n",
    "b] Just the physical pairs\n",
    "\n",
    "c] Just the non-physical pairs"
   ]
  },
  {
   "cell_type": "code",
   "execution_count": null,
   "metadata": {},
   "outputs": [],
   "source": []
  }
 ],
 "metadata": {
  "kernelspec": {
   "display_name": "base",
   "language": "python",
   "name": "python3"
  },
  "language_info": {
   "codemirror_mode": {
    "name": "ipython",
    "version": 3
   },
   "file_extension": ".py",
   "mimetype": "text/x-python",
   "name": "python",
   "nbconvert_exporter": "python",
   "pygments_lexer": "ipython3",
   "version": "3.11.5"
  },
  "orig_nbformat": 4
 },
 "nbformat": 4,
 "nbformat_minor": 2
}
