{
 "cells": [
  {
   "cell_type": "markdown",
   "metadata": {},
   "source": [
    "# Make Potential Publication Plots for WDS-Gaia Paper"
   ]
  },
  {
   "cell_type": "code",
   "execution_count": 4,
   "metadata": {},
   "outputs": [],
   "source": [
    "from astropy.table import Table"
   ]
  },
  {
   "cell_type": "markdown",
   "metadata": {},
   "source": [
    "#### Read in the wds table, query results table and the sorted results (so we can look at all the objects together as well as the sorted systems)"
   ]
  },
  {
   "cell_type": "code",
   "execution_count": 6,
   "metadata": {},
   "outputs": [],
   "source": [
    "directory = '/home/sc36/dzakarian_wsl/wds_gaia_project/WDS_Gaia/'\n",
    "wdstab = Table.read(f'{directory}wdstab6-27.ecsv', header_start=0, data_start=1) \n",
    "\n",
    "query_results_table = f'{directory}/stack_query_results_table_fixed4-20.ecsv'\n",
    "index_error_queries = f'{directory}/stack_index_error_queries_fixed4-20.ecsv'\n",
    "\n",
    "associated_systems_table = f'{directory}/associated_systems_table_fixed4-20.ecsv'\n",
    "non_associated_systems_table = f'{directory}/non_associated_systems_table_fixed4-20.ecsv'\n"
   ]
  },
  {
   "cell_type": "markdown",
   "metadata": {},
   "source": [
    "### Plot 1) Projection of the WDS Sources on the Sky "
   ]
  },
  {
   "cell_type": "code",
   "execution_count": null,
   "metadata": {},
   "outputs": [],
   "source": []
  },
  {
   "cell_type": "markdown",
   "metadata": {},
   "source": [
    "### Plot 2) Projection of the WDS-Gaia Sources on the Sky\n",
    "\n",
    "a] Both together (distinguished by color)\n",
    "\n",
    "b] Just the physical pairs\n",
    "\n",
    "c] Just the non-physical pairs"
   ]
  },
  {
   "cell_type": "code",
   "execution_count": null,
   "metadata": {},
   "outputs": [],
   "source": []
  },
  {
   "cell_type": "markdown",
   "metadata": {},
   "source": [
    "### Plot 3) Angular Separation Histogram\n",
    "a] Both together (distinguished by color)\n",
    "\n",
    "b] Just the physical pairs\n",
    "\n",
    "c] Just the non-physical pairs"
   ]
  },
  {
   "cell_type": "code",
   "execution_count": null,
   "metadata": {},
   "outputs": [],
   "source": []
  },
  {
   "cell_type": "markdown",
   "metadata": {},
   "source": [
    "### Plot 4) Physical Separation Histogram\n",
    "\n",
    "a] Both together (distinguished by color)\n",
    "\n",
    "b] Just the physical pairs\n",
    "\n",
    "c] Just the non-physical pairs"
   ]
  },
  {
   "cell_type": "code",
   "execution_count": null,
   "metadata": {},
   "outputs": [],
   "source": []
  },
  {
   "cell_type": "markdown",
   "metadata": {},
   "source": [
    "### Plot 5) Delta-Mag Histogram\n",
    "\n",
    "a] Both together (distinguished by color)\n",
    "\n",
    "b] Just the physical pairs\n",
    "\n",
    "c] Just the non-physical pairs"
   ]
  },
  {
   "cell_type": "code",
   "execution_count": null,
   "metadata": {},
   "outputs": [],
   "source": []
  },
  {
   "cell_type": "markdown",
   "metadata": {},
   "source": [
    "### Plot 6) Mag vs Mag plot\n",
    "\n",
    "a] Both together (distinguished by color)\n",
    "\n",
    "b] Just the physical pairs\n",
    "\n",
    "c] Just the non-physical pairs"
   ]
  },
  {
   "cell_type": "code",
   "execution_count": null,
   "metadata": {},
   "outputs": [],
   "source": []
  },
  {
   "cell_type": "markdown",
   "metadata": {},
   "source": [
    "### Plot 7) Color Magnitude Diagram\n",
    "\n",
    "a] Both together (distinguished by color)\n",
    "\n",
    "b] Just the physical pairs\n",
    "\n",
    "c] Just the non-physical pairs"
   ]
  },
  {
   "cell_type": "code",
   "execution_count": null,
   "metadata": {},
   "outputs": [],
   "source": []
  }
 ],
 "metadata": {
  "kernelspec": {
   "display_name": "Python 3",
   "language": "python",
   "name": "python3"
  },
  "language_info": {
   "codemirror_mode": {
    "name": "ipython",
    "version": 3
   },
   "file_extension": ".py",
   "mimetype": "text/x-python",
   "name": "python",
   "nbconvert_exporter": "python",
   "pygments_lexer": "ipython3",
   "version": "3.9.5"
  },
  "orig_nbformat": 4
 },
 "nbformat": 4,
 "nbformat_minor": 2
}
